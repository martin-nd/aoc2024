{
 "cells": [
  {
   "cell_type": "markdown",
   "source": [
    "# Advent of Code 2024 Solutions\n",
    "\n",
    "## 1"
   ],
   "metadata": {
    "collapsed": false
   }
  },
  {
   "cell_type": "code",
   "execution_count": 37,
   "outputs": [],
   "source": [
    "from tqdm import tqdm"
   ],
   "metadata": {
    "collapsed": false,
    "ExecuteTime": {
     "end_time": "2024-12-09T05:15:44.223090Z",
     "start_time": "2024-12-09T05:15:44.203964Z"
    }
   }
  },
  {
   "cell_type": "code",
   "execution_count": 38,
   "outputs": [
    {
     "data": {
      "text/plain": "3574690"
     },
     "execution_count": 38,
     "metadata": {},
     "output_type": "execute_result"
    }
   ],
   "source": [
    "# part 1\n",
    "import numpy as np\n",
    "with open(\"inputs/input1.txt\") as file:\n",
    "    lines = [line.strip(\"\\n\").split() for line in file.readlines()]\n",
    "\n",
    "lines = np.array(lines).astype(\"int64\")\n",
    "left = lines[:, 0]\n",
    "right = lines[:, 1]\n",
    "\n",
    "ordered = np.vstack([\n",
    "    np.sort(left),\n",
    "    np.sort(right)\n",
    "]).T\n",
    "\n",
    "difs = np.abs(ordered[:, 0] - ordered[:, 1])\n",
    "sum(difs)"
   ],
   "metadata": {
    "collapsed": false,
    "ExecuteTime": {
     "end_time": "2024-12-09T05:15:44.224883Z",
     "start_time": "2024-12-09T05:15:44.208744Z"
    }
   }
  },
  {
   "cell_type": "code",
   "execution_count": 39,
   "outputs": [
    {
     "data": {
      "text/plain": "22565391"
     },
     "execution_count": 39,
     "metadata": {},
     "output_type": "execute_result"
    }
   ],
   "source": [
    "# part 2\n",
    "mults = []\n",
    "for num in ordered[:, 0]:\n",
    "    right_occs = sum(ordered[:, 1] == num)\n",
    "    mults.append(right_occs)\n",
    "mults = np.array(mults)\n",
    "sum(mults * ordered[:, 0])"
   ],
   "metadata": {
    "collapsed": false,
    "ExecuteTime": {
     "end_time": "2024-12-09T05:15:44.288559Z",
     "start_time": "2024-12-09T05:15:44.286741Z"
    }
   }
  },
  {
   "cell_type": "markdown",
   "source": [
    "## 2"
   ],
   "metadata": {
    "collapsed": false
   }
  },
  {
   "cell_type": "code",
   "execution_count": 40,
   "outputs": [
    {
     "data": {
      "text/plain": "631"
     },
     "execution_count": 40,
     "metadata": {},
     "output_type": "execute_result"
    }
   ],
   "source": [
    "# part 1\n",
    "import numpy as np\n",
    "\n",
    "def is_safe(report):\n",
    "    n = report[0]\n",
    "    difs = []\n",
    "    for num in report[1:]:\n",
    "        difs.append(n - num)\n",
    "        n = num\n",
    "    difs = np.array(difs)\n",
    "    if sum(difs > 0) != len(difs) and sum(difs < 0) != len(difs):\n",
    "        return False\n",
    "    if sum(np.abs(difs) >= 1) == len(difs) and sum(np.abs(difs) <= 3) == len(difs):\n",
    "        return True\n",
    "    return False\n",
    "\n",
    "with open(\"inputs/input2.txt\") as file:\n",
    "    reports = [line.strip(\"\\n\").split() for line in file.readlines()]\n",
    "\n",
    "safety_vec = []\n",
    "for report in reports:\n",
    "    for i in range(len(report)):\n",
    "        report[i] = int(report[i])\n",
    "    safety_vec.append(is_safe(report))\n",
    "sum(safety_vec)"
   ],
   "metadata": {
    "collapsed": false,
    "ExecuteTime": {
     "end_time": "2024-12-09T05:15:44.300175Z",
     "start_time": "2024-12-09T05:15:44.289933Z"
    }
   }
  },
  {
   "cell_type": "code",
   "execution_count": 41,
   "outputs": [
    {
     "data": {
      "text/plain": "665"
     },
     "execution_count": 41,
     "metadata": {},
     "output_type": "execute_result"
    }
   ],
   "source": [
    "# part 2\n",
    "from itertools import combinations\n",
    "def pd_is_safe(report):\n",
    "    combs = combinations(report, len(report) - 1)\n",
    "    subsafeties = [is_safe(comb) for comb in combs]\n",
    "    return True in subsafeties\n",
    "\n",
    "safety_vec2 = []\n",
    "for report in reports:\n",
    "    safety_vec2.append(pd_is_safe(report))\n",
    "sum(safety_vec2)"
   ],
   "metadata": {
    "collapsed": false,
    "ExecuteTime": {
     "end_time": "2024-12-09T05:15:44.347325Z",
     "start_time": "2024-12-09T05:15:44.345485Z"
    }
   }
  },
  {
   "cell_type": "markdown",
   "source": [
    "## 3"
   ],
   "metadata": {
    "collapsed": false
   }
  },
  {
   "cell_type": "code",
   "execution_count": 42,
   "outputs": [
    {
     "data": {
      "text/plain": "187825547"
     },
     "execution_count": 42,
     "metadata": {},
     "output_type": "execute_result"
    }
   ],
   "source": [
    "# part 1\n",
    "import re\n",
    "import numpy as np\n",
    "\n",
    "def find_multiply(garbled_str):\n",
    "    mults = re.findall(r\"mul\\([0-9]+,[0-9]+\\)\", garbled_str)\n",
    "    nums = np.array([re.findall(r\"[0-9]+\", mult) for mult in mults]).astype(\"int64\")\n",
    "    product = nums[:, 0] * nums[:, 1]\n",
    "    return sum(product)\n",
    "\n",
    "with open(\"inputs/input3.txt\") as file:\n",
    "    lines = [line.strip(\"\\n\") for line in file.readlines()]\n",
    "total = \"\".join(lines)\n",
    "find_multiply(total)"
   ],
   "metadata": {
    "collapsed": false,
    "ExecuteTime": {
     "end_time": "2024-12-09T05:15:44.351413Z",
     "start_time": "2024-12-09T05:15:44.348108Z"
    }
   }
  },
  {
   "cell_type": "code",
   "execution_count": 43,
   "outputs": [
    {
     "data": {
      "text/plain": "85508223"
     },
     "execution_count": 43,
     "metadata": {},
     "output_type": "execute_result"
    }
   ],
   "source": [
    "# part 2\n",
    "def find_multiply_conditional(garbled_str):\n",
    "    instructions = re.findall(r\"mul\\([0-9]+,[0-9]+\\)|do\\(\\)|don't\\(\\)\", garbled_str)\n",
    "    act = True\n",
    "    valid_instructions = []\n",
    "    for instruction in instructions:\n",
    "        if instruction == \"don't()\":\n",
    "            act = False\n",
    "            continue\n",
    "        elif instruction == \"do()\":\n",
    "            act = True\n",
    "            continue\n",
    "        elif act:\n",
    "            valid_instructions.append(instruction)\n",
    "    nums = np.array([re.findall(r\"[0-9]+\", mult) for mult in valid_instructions]).astype(\"int64\")\n",
    "    product = nums[:, 0] * nums[:, 1]\n",
    "    return sum(product)\n",
    "\n",
    "find_multiply_conditional(total)"
   ],
   "metadata": {
    "collapsed": false,
    "ExecuteTime": {
     "end_time": "2024-12-09T05:15:44.354685Z",
     "start_time": "2024-12-09T05:15:44.353117Z"
    }
   }
  },
  {
   "cell_type": "markdown",
   "source": [
    "## 4"
   ],
   "metadata": {
    "collapsed": false
   }
  },
  {
   "cell_type": "code",
   "execution_count": 44,
   "outputs": [
    {
     "data": {
      "text/plain": "2534"
     },
     "execution_count": 44,
     "metadata": {},
     "output_type": "execute_result"
    }
   ],
   "source": [
    "# part 1\n",
    "import numpy as np\n",
    "with open(\"inputs/input4.txt\") as file:\n",
    "    ltr_grid = np.array([[letter for letter in line.strip(\"\\n\")] for line in file.readlines()])\n",
    "\n",
    "def get_vecs(start, grid_dims):\n",
    "    change_vec = np.array([1, 2, 3])\n",
    "    row_vec = (np.ones(3) * start[0]).astype(\"int64\")\n",
    "    col_vec = (np.ones(3) * start[1]).astype(\"int64\")\n",
    "    up = list(zip(row_vec - change_vec, col_vec))\n",
    "    right = list(zip(row_vec, col_vec + change_vec))\n",
    "    down = list(zip(row_vec + change_vec, col_vec))\n",
    "    left = list(zip(row_vec, col_vec - change_vec))\n",
    "    up_right = list(zip(row_vec - change_vec, col_vec + change_vec))\n",
    "    down_right = list(zip(row_vec + change_vec, col_vec + change_vec))\n",
    "    down_left = list(zip(row_vec + change_vec, col_vec - change_vec))\n",
    "    up_left = list(zip(row_vec - change_vec, col_vec - change_vec))\n",
    "\n",
    "    directions = [up, up_right, right, down_right, down, down_left, left, up_left]\n",
    "    valid_directions = []\n",
    "    for dir_set in directions:\n",
    "        for i, (row, col) in enumerate(dir_set):\n",
    "            if row < 0 or col < 0 or row >= grid_dims[0] or col >= grid_dims[1]:\n",
    "                i = 0\n",
    "                break\n",
    "        if i == 2:\n",
    "            valid_directions.append(dir_set)\n",
    "    return valid_directions\n",
    "\n",
    "\n",
    "def find_starts(grid, character):\n",
    "    starts = []\n",
    "    for i, row in enumerate(grid):\n",
    "        for j, letter in enumerate(row):\n",
    "            if letter == character:\n",
    "                starts.append((i, j))\n",
    "    return starts\n",
    "\n",
    "starts = find_starts(ltr_grid, \"X\")\n",
    "count = 0\n",
    "for start in starts:\n",
    "    vecs = get_vecs(start, ltr_grid.shape)\n",
    "    # cursed triple list comprehension\n",
    "    letters = [\"\".join(letterset) for letterset in [[ltr_grid[i, j] for i, j in vec] for vec in vecs]]\n",
    "    count += letters.count(\"MAS\")\n",
    "count"
   ],
   "metadata": {
    "collapsed": false,
    "ExecuteTime": {
     "end_time": "2024-12-09T05:15:44.456653Z",
     "start_time": "2024-12-09T05:15:44.356992Z"
    }
   }
  },
  {
   "cell_type": "code",
   "execution_count": 45,
   "outputs": [
    {
     "data": {
      "text/plain": "1866"
     },
     "execution_count": 45,
     "metadata": {},
     "output_type": "execute_result"
    }
   ],
   "source": [
    "# part 2\n",
    "def is_x_mas(position, grid):\n",
    "    if position[0] - 1 < 0 or \\\n",
    "            position[0] + 1 >= grid.shape[0] or \\\n",
    "            position[1] - 1 < 0 or \\\n",
    "            position[1] + 1 >= grid.shape[1]:\n",
    "        return False\n",
    "    upleft = grid[position[0] - 1, position[1] - 1]\n",
    "    upright = grid[position[0] - 1, position[1] + 1]\n",
    "    downright = grid[position[0] + 1, position[1] + 1]\n",
    "    downleft = grid[position[0] + 1, position[1] - 1]\n",
    "\n",
    "    set1 = {upleft, downright}\n",
    "    set2 = {upright, downleft}\n",
    "\n",
    "    if set1 == {\"S\", \"M\"} and set1 == set2:\n",
    "        return True\n",
    "    return False\n",
    "\n",
    "tfs = []\n",
    "starts = find_starts(ltr_grid, \"A\")\n",
    "for start in starts:\n",
    "    tfs.append(is_x_mas(start, ltr_grid))\n",
    "sum(tfs)"
   ],
   "metadata": {
    "collapsed": false,
    "ExecuteTime": {
     "end_time": "2024-12-09T05:15:44.466754Z",
     "start_time": "2024-12-09T05:15:44.465307Z"
    }
   }
  },
  {
   "cell_type": "markdown",
   "source": [
    "## 5"
   ],
   "metadata": {
    "collapsed": false
   }
  },
  {
   "cell_type": "code",
   "execution_count": 46,
   "outputs": [
    {
     "name": "stdout",
     "output_type": "stream",
     "text": [
      "5762\n"
     ]
    }
   ],
   "source": [
    "# part 1\n",
    "import numpy as np\n",
    "with open(\"inputs/input5.txt\") as file:\n",
    "    lines = [line.strip(\"\\n\") for line in file.readlines()]\n",
    "rules = np.array([line.strip(\"\\n\").split(\"|\") for line in lines if \"|\" in line]).astype(\"int64\")\n",
    "updates = [[int(x) for x in line.strip(\"\\n\").split(\",\")] for line in lines if \"|\" not in line and len(line) != 0]\n",
    "\n",
    "def get_afters(pgnum):\n",
    "    return rules[rules[:, 0] == pgnum, 1]\n",
    "\n",
    "def is_valid(update):\n",
    "    for i, num in enumerate(update):\n",
    "        afters = get_afters(num)\n",
    "        for after in afters:\n",
    "            if after in update[:i]:\n",
    "                return False\n",
    "    return True\n",
    "\n",
    "valid_updates = [update for update in updates if is_valid(update)]\n",
    "centers = [update[len(update) // 2] for update in valid_updates]\n",
    "print(sum(centers))"
   ],
   "metadata": {
    "collapsed": false,
    "ExecuteTime": {
     "end_time": "2024-12-09T05:15:44.498678Z",
     "start_time": "2024-12-09T05:15:44.468414Z"
    }
   }
  },
  {
   "cell_type": "code",
   "execution_count": 47,
   "outputs": [
    {
     "name": "stdout",
     "output_type": "stream",
     "text": [
      "4130\n"
     ]
    }
   ],
   "source": [
    "# part 2: recursion!\n",
    "invalid_updates = [update for update in updates if not is_valid(update)]\n",
    "\n",
    "def correct_update(update):\n",
    "    if is_valid(update):\n",
    "        return update\n",
    "    for i, num in enumerate(update):\n",
    "        corrected = update\n",
    "        afters = get_afters(num)\n",
    "        for after in afters:\n",
    "            if after in update[:i]:\n",
    "                loc = update.index(after)\n",
    "                #weird python thing allows me to slice beyond the indices of an array\n",
    "                corrected = corrected[:loc] + [num] + corrected[loc:i] + corrected[i + 1:]\n",
    "                return correct_update(corrected)\n",
    "\n",
    "corrected = [correct_update(update) for update in invalid_updates]\n",
    "centers = [update[len(update) // 2] for update in corrected]\n",
    "print(sum(centers))"
   ],
   "metadata": {
    "collapsed": false,
    "ExecuteTime": {
     "end_time": "2024-12-09T05:15:44.775184Z",
     "start_time": "2024-12-09T05:15:44.498215Z"
    }
   }
  },
  {
   "cell_type": "markdown",
   "source": [
    "# 6"
   ],
   "metadata": {
    "collapsed": false
   }
  },
  {
   "cell_type": "code",
   "execution_count": 48,
   "outputs": [
    {
     "name": "stdout",
     "output_type": "stream",
     "text": [
      "4819\n"
     ]
    }
   ],
   "source": [
    "# part 1\n",
    "import numpy as np\n",
    "with open(\"inputs/input6.txt\") as file:\n",
    "    lines = np.array([[letter for letter in line.strip(\"\\n\")] for line in file.readlines()])\n",
    "\n",
    "def chart_path(grid):\n",
    "    pathed_grid = grid.copy()\n",
    "    # let's recycle an older function here\n",
    "    loc = list(find_starts(pathed_grid, \"^\")[0])\n",
    "    sym = \"^\"\n",
    "    while 0 < loc[0] < pathed_grid.shape[0] and 0 < loc[1] < pathed_grid.shape[1]:\n",
    "        try:\n",
    "            if sym == \"^\":\n",
    "                if pathed_grid[loc[0] - 1, loc[1]] == \"#\":\n",
    "                    sym = \">\"\n",
    "                else:\n",
    "                    pathed_grid[loc[0], loc[1]] = \"X\"\n",
    "                    loc[0] -= 1\n",
    "            elif sym == \">\":\n",
    "                if pathed_grid[loc[0], loc[1] + 1] == \"#\":\n",
    "                    sym = \"v\"\n",
    "                else:\n",
    "                    pathed_grid[loc[0], loc[1]] = \"X\"\n",
    "                    loc[1] += 1\n",
    "            elif sym == \"v\":\n",
    "                if pathed_grid[loc[0] + 1, loc[1]] == \"#\":\n",
    "                    sym = \"<\"\n",
    "                else:\n",
    "                    pathed_grid[loc[0], loc[1]] = \"X\"\n",
    "                    loc[0] += 1\n",
    "            elif sym == \"<\":\n",
    "                if pathed_grid[loc[0], loc[1] - 1] == \"#\":\n",
    "                    sym = \"^\"\n",
    "                else:\n",
    "                    pathed_grid[loc[0], loc[1]] = \"X\"\n",
    "                    loc[1] -= 1\n",
    "        except IndexError:\n",
    "            break\n",
    "    pathed_grid[loc[0], loc[1]] = \"X\" # mark last position\n",
    "    return pathed_grid\n",
    "\n",
    "# recycle it again\n",
    "pathed = chart_path(lines)\n",
    "xs = find_starts(pathed, \"X\")\n",
    "print(len(xs))"
   ],
   "metadata": {
    "collapsed": false,
    "ExecuteTime": {
     "end_time": "2024-12-09T05:15:44.786504Z",
     "start_time": "2024-12-09T05:15:44.784804Z"
    }
   }
  },
  {
   "cell_type": "code",
   "execution_count": 49,
   "outputs": [
    {
     "name": "stdout",
     "output_type": "stream",
     "text": [
      "1796\n"
     ]
    }
   ],
   "source": [
    "# part 2\n",
    "def is_looped(grid):\n",
    "    loc = list(find_starts(grid, \"^\")[0])\n",
    "    sym = \"^\"\n",
    "    path_dict = {}\n",
    "    while 0 < loc[0] < grid.shape[0] and 0 < loc[1] < grid.shape[1]:\n",
    "        if tuple(loc) in path_dict and sym in path_dict[tuple(loc)]:\n",
    "            return 1\n",
    "        elif tuple(loc) in path_dict and sym not in path_dict[tuple(loc)]:\n",
    "            path_dict[tuple(loc)].append(sym)\n",
    "        elif tuple(loc) not in path_dict:\n",
    "            path_dict[tuple(loc)] = [sym]\n",
    "        try:\n",
    "            if sym == \"^\":\n",
    "                if grid[loc[0] - 1, loc[1]] == \"#\":\n",
    "                    sym = \">\"\n",
    "                else:\n",
    "                    loc[0] -= 1\n",
    "            elif sym == \">\":\n",
    "                if grid[loc[0], loc[1] + 1] == \"#\":\n",
    "                    sym = \"v\"\n",
    "                else:\n",
    "                    loc[1] += 1\n",
    "            elif sym == \"v\":\n",
    "                if grid[loc[0] + 1, loc[1]] == \"#\":\n",
    "                    sym = \"<\"\n",
    "                else:\n",
    "                    loc[0] += 1\n",
    "            elif sym == \"<\":\n",
    "                if grid[loc[0], loc[1] - 1] == \"#\":\n",
    "                    sym = \"^\"\n",
    "                else:\n",
    "                    loc[1] -= 1\n",
    "        except IndexError:\n",
    "            break\n",
    "    return 0\n",
    "\n",
    "\n",
    "looped = []\n",
    "possible_obstruction_locations = xs\n",
    "for i, j in possible_obstruction_locations:\n",
    "    mapcopy = lines.copy()\n",
    "    if mapcopy[i, j] == \"^\":\n",
    "        continue\n",
    "    mapcopy[i, j] = \"#\"\n",
    "    looped.append(is_looped(mapcopy))\n",
    "print(sum(looped))"
   ],
   "metadata": {
    "collapsed": false,
    "ExecuteTime": {
     "end_time": "2024-12-09T05:16:05.191865Z",
     "start_time": "2024-12-09T05:15:45.085656Z"
    }
   }
  }
 ],
 "metadata": {
  "kernelspec": {
   "display_name": "Python 3",
   "language": "python",
   "name": "python3"
  },
  "language_info": {
   "codemirror_mode": {
    "name": "ipython",
    "version": 2
   },
   "file_extension": ".py",
   "mimetype": "text/x-python",
   "name": "python",
   "nbconvert_exporter": "python",
   "pygments_lexer": "ipython2",
   "version": "2.7.6"
  }
 },
 "nbformat": 4,
 "nbformat_minor": 0
}
