{
 "cells": [
  {
   "cell_type": "markdown",
   "source": [
    "# Advent of Code 2024 Solutions\n",
    "\n",
    "## 1"
   ],
   "metadata": {
    "collapsed": false
   }
  },
  {
   "cell_type": "code",
   "execution_count": 45,
   "outputs": [
    {
     "data": {
      "text/plain": "3574690"
     },
     "execution_count": 45,
     "metadata": {},
     "output_type": "execute_result"
    }
   ],
   "source": [
    "# part 1\n",
    "import numpy as np\n",
    "with open(\"inputs/input1.txt\") as file:\n",
    "    lines = [line.strip(\"\\n\").split() for line in file.readlines()]\n",
    "\n",
    "lines = np.array(lines).astype(\"int64\")\n",
    "left = lines[:, 0]\n",
    "right = lines[:, 1]\n",
    "\n",
    "ordered = np.vstack([\n",
    "    np.sort(left),\n",
    "    np.sort(right)\n",
    "]).T\n",
    "\n",
    "difs = np.abs(ordered[:, 0] - ordered[:, 1])\n",
    "sum(difs)"
   ],
   "metadata": {
    "collapsed": false,
    "ExecuteTime": {
     "end_time": "2024-12-05T07:37:11.372603Z",
     "start_time": "2024-12-05T07:37:11.363907Z"
    }
   }
  },
  {
   "cell_type": "code",
   "execution_count": 46,
   "outputs": [
    {
     "data": {
      "text/plain": "22565391"
     },
     "execution_count": 46,
     "metadata": {},
     "output_type": "execute_result"
    }
   ],
   "source": [
    "# part 2\n",
    "mults = []\n",
    "for num in ordered[:, 0]:\n",
    "    right_occs = sum(ordered[:, 1] == num)\n",
    "    mults.append(right_occs)\n",
    "mults = np.array(mults)\n",
    "sum(mults * ordered[:, 0])"
   ],
   "metadata": {
    "collapsed": false,
    "ExecuteTime": {
     "end_time": "2024-12-05T07:37:11.446675Z",
     "start_time": "2024-12-05T07:37:11.369706Z"
    }
   }
  },
  {
   "cell_type": "markdown",
   "source": [
    "## 2"
   ],
   "metadata": {
    "collapsed": false
   }
  },
  {
   "cell_type": "code",
   "execution_count": 47,
   "outputs": [
    {
     "data": {
      "text/plain": "631"
     },
     "execution_count": 47,
     "metadata": {},
     "output_type": "execute_result"
    }
   ],
   "source": [
    "# part 1\n",
    "import numpy as np\n",
    "\n",
    "def is_safe(report):\n",
    "    n = report[0]\n",
    "    difs = []\n",
    "    for num in report[1:]:\n",
    "        difs.append(n - num)\n",
    "        n = num\n",
    "    difs = np.array(difs)\n",
    "    if sum(difs > 0) != len(difs) and sum(difs < 0) != len(difs):\n",
    "        return False\n",
    "    if sum(np.abs(difs) >= 1) == len(difs) and sum(np.abs(difs) <= 3) == len(difs):\n",
    "        return True\n",
    "    return False\n",
    "\n",
    "with open(\"inputs/input2.txt\") as file:\n",
    "    reports = [line.strip(\"\\n\").split() for line in file.readlines()]\n",
    "\n",
    "safety_vec = []\n",
    "for report in reports:\n",
    "    for i in range(len(report)):\n",
    "        report[i] = int(report[i])\n",
    "    safety_vec.append(is_safe(report))\n",
    "sum(safety_vec)"
   ],
   "metadata": {
    "collapsed": false,
    "ExecuteTime": {
     "end_time": "2024-12-05T07:37:11.458627Z",
     "start_time": "2024-12-05T07:37:11.448223Z"
    }
   }
  },
  {
   "cell_type": "code",
   "execution_count": 48,
   "outputs": [
    {
     "data": {
      "text/plain": "665"
     },
     "execution_count": 48,
     "metadata": {},
     "output_type": "execute_result"
    }
   ],
   "source": [
    "# part 2\n",
    "from itertools import combinations\n",
    "def pd_is_safe(report):\n",
    "    combs = combinations(report, len(report) - 1)\n",
    "    subsafeties = [is_safe(comb) for comb in combs]\n",
    "    return True in subsafeties\n",
    "\n",
    "safety_vec2 = []\n",
    "for report in reports:\n",
    "    safety_vec2.append(pd_is_safe(report))\n",
    "sum(safety_vec2)"
   ],
   "metadata": {
    "collapsed": false,
    "ExecuteTime": {
     "end_time": "2024-12-05T07:37:11.504402Z",
     "start_time": "2024-12-05T07:37:11.458191Z"
    }
   }
  },
  {
   "cell_type": "markdown",
   "source": [
    "## 3"
   ],
   "metadata": {
    "collapsed": false
   }
  },
  {
   "cell_type": "code",
   "execution_count": 49,
   "outputs": [
    {
     "data": {
      "text/plain": "187825547"
     },
     "execution_count": 49,
     "metadata": {},
     "output_type": "execute_result"
    }
   ],
   "source": [
    "# part 1\n",
    "import re\n",
    "import numpy as np\n",
    "\n",
    "def find_multiply(garbled_str):\n",
    "    mults = re.findall(r\"mul\\([0-9]+,[0-9]+\\)\", garbled_str)\n",
    "    nums = np.array([re.findall(r\"[0-9]+\", mult) for mult in mults]).astype(\"int64\")\n",
    "    product = nums[:, 0] * nums[:, 1]\n",
    "    return sum(product)\n",
    "\n",
    "with open(\"inputs/input3.txt\") as file:\n",
    "    lines = [line.strip(\"\\n\") for line in file.readlines()]\n",
    "total = \"\".join(lines)\n",
    "find_multiply(total)"
   ],
   "metadata": {
    "collapsed": false,
    "ExecuteTime": {
     "end_time": "2024-12-05T07:37:11.508962Z",
     "start_time": "2024-12-05T07:37:11.506190Z"
    }
   }
  },
  {
   "cell_type": "code",
   "execution_count": 50,
   "outputs": [
    {
     "data": {
      "text/plain": "85508223"
     },
     "execution_count": 50,
     "metadata": {},
     "output_type": "execute_result"
    }
   ],
   "source": [
    "# part 2\n",
    "def find_multiply_conditional(garbled_str):\n",
    "    instructions = re.findall(r\"mul\\([0-9]+,[0-9]+\\)|do\\(\\)|don't\\(\\)\", garbled_str)\n",
    "    act = True\n",
    "    valid_instructions = []\n",
    "    for instruction in instructions:\n",
    "        if instruction == \"don't()\":\n",
    "            act = False\n",
    "            continue\n",
    "        elif instruction == \"do()\":\n",
    "            act = True\n",
    "            continue\n",
    "        elif act:\n",
    "            valid_instructions.append(instruction)\n",
    "    nums = np.array([re.findall(r\"[0-9]+\", mult) for mult in valid_instructions]).astype(\"int64\")\n",
    "    product = nums[:, 0] * nums[:, 1]\n",
    "    return sum(product)\n",
    "\n",
    "find_multiply_conditional(total)"
   ],
   "metadata": {
    "collapsed": false,
    "ExecuteTime": {
     "end_time": "2024-12-05T07:37:11.512393Z",
     "start_time": "2024-12-05T07:37:11.510845Z"
    }
   }
  },
  {
   "cell_type": "markdown",
   "source": [
    "## 4"
   ],
   "metadata": {
    "collapsed": false
   }
  },
  {
   "cell_type": "code",
   "execution_count": 51,
   "outputs": [
    {
     "data": {
      "text/plain": "2534"
     },
     "execution_count": 51,
     "metadata": {},
     "output_type": "execute_result"
    }
   ],
   "source": [
    "# part 1\n",
    "import numpy as np\n",
    "with open(\"inputs/input4.txt\") as file:\n",
    "    ltr_grid = np.array([[letter for letter in line.strip(\"\\n\")] for line in file.readlines()])\n",
    "\n",
    "def get_vecs(start, grid_dims):\n",
    "    change_vec = np.array([1, 2, 3])\n",
    "    row_vec = (np.ones(3) * start[0]).astype(\"int64\")\n",
    "    col_vec = (np.ones(3) * start[1]).astype(\"int64\")\n",
    "    up = list(zip(row_vec - change_vec, col_vec))\n",
    "    right = list(zip(row_vec, col_vec + change_vec))\n",
    "    down = list(zip(row_vec + change_vec, col_vec))\n",
    "    left = list(zip(row_vec, col_vec - change_vec))\n",
    "    up_right = list(zip(row_vec - change_vec, col_vec + change_vec))\n",
    "    down_right = list(zip(row_vec + change_vec, col_vec + change_vec))\n",
    "    down_left = list(zip(row_vec + change_vec, col_vec - change_vec))\n",
    "    up_left = list(zip(row_vec - change_vec, col_vec - change_vec))\n",
    "\n",
    "    directions = [up, up_right, right, down_right, down, down_left, left, up_left]\n",
    "    valid_directions = []\n",
    "    for dir_set in directions:\n",
    "        for i, (row, col) in enumerate(dir_set):\n",
    "            if row < 0 or col < 0 or row >= grid_dims[0] or col >= grid_dims[1]:\n",
    "                i = 0\n",
    "                break\n",
    "        if i == 2:\n",
    "            valid_directions.append(dir_set)\n",
    "    return valid_directions\n",
    "\n",
    "\n",
    "def find_starts(grid, character):\n",
    "    starts = []\n",
    "    for i, row in enumerate(grid):\n",
    "        for j, letter in enumerate(row):\n",
    "            if letter == character:\n",
    "                starts.append((i, j))\n",
    "    return starts\n",
    "\n",
    "starts = find_starts(ltr_grid, \"X\")\n",
    "count = 0\n",
    "for start in starts:\n",
    "    vecs = get_vecs(start, ltr_grid.shape)\n",
    "    letters = [\"\".join(letterset) for letterset in [[ltr_grid[i, j] for i, j in vec] for vec in vecs]]\n",
    "    count += letters.count(\"MAS\")\n",
    "count"
   ],
   "metadata": {
    "collapsed": false,
    "ExecuteTime": {
     "end_time": "2024-12-05T07:37:11.599189Z",
     "start_time": "2024-12-05T07:37:11.514569Z"
    }
   }
  },
  {
   "cell_type": "code",
   "execution_count": 52,
   "outputs": [
    {
     "data": {
      "text/plain": "1866"
     },
     "execution_count": 52,
     "metadata": {},
     "output_type": "execute_result"
    }
   ],
   "source": [
    "# part 2\n",
    "def is_x_mas(position, grid):\n",
    "    if position[0] - 1 < 0 or \\\n",
    "            position[0] + 1 >= grid.shape[0] or \\\n",
    "            position[1] - 1 < 0 or \\\n",
    "            position[1] + 1 >= grid.shape[1]:\n",
    "        return False\n",
    "    upleft = grid[position[0] - 1, position[1] - 1]\n",
    "    upright = grid[position[0] - 1, position[1] + 1]\n",
    "    downright = grid[position[0] + 1, position[1] + 1]\n",
    "    downleft = grid[position[0] + 1, position[1] - 1]\n",
    "\n",
    "    set1 = {upleft, downright}\n",
    "    set2 = {upright, downleft}\n",
    "\n",
    "    if set1 == {\"S\", \"M\"} and set1 == set2:\n",
    "        return True\n",
    "    return False\n",
    "\n",
    "tfs = []\n",
    "starts = find_starts(ltr_grid, \"A\")\n",
    "for start in starts:\n",
    "    tfs.append(is_x_mas(start, ltr_grid))\n",
    "sum(tfs)"
   ],
   "metadata": {
    "collapsed": false,
    "ExecuteTime": {
     "end_time": "2024-12-05T07:37:11.609878Z",
     "start_time": "2024-12-05T07:37:11.608715Z"
    }
   }
  },
  {
   "cell_type": "markdown",
   "source": [
    "## 5"
   ],
   "metadata": {
    "collapsed": false
   }
  },
  {
   "cell_type": "code",
   "execution_count": null,
   "outputs": [],
   "source": [],
   "metadata": {
    "collapsed": false
   }
  }
 ],
 "metadata": {
  "kernelspec": {
   "display_name": "Python 3",
   "language": "python",
   "name": "python3"
  },
  "language_info": {
   "codemirror_mode": {
    "name": "ipython",
    "version": 2
   },
   "file_extension": ".py",
   "mimetype": "text/x-python",
   "name": "python",
   "nbconvert_exporter": "python",
   "pygments_lexer": "ipython2",
   "version": "2.7.6"
  }
 },
 "nbformat": 4,
 "nbformat_minor": 0
}
