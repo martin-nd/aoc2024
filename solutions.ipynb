{
 "cells": [
  {
   "cell_type": "markdown",
   "source": [
    "# Advent of Code 2024 Solutions\n",
    "\n",
    "## 1"
   ],
   "metadata": {
    "collapsed": false
   }
  },
  {
   "cell_type": "code",
   "execution_count": 96,
   "outputs": [
    {
     "data": {
      "text/plain": "3574690"
     },
     "execution_count": 96,
     "metadata": {},
     "output_type": "execute_result"
    }
   ],
   "source": [
    "# part 1\n",
    "import numpy as np\n",
    "with open(\"inputs/input1.txt\") as file:\n",
    "    lines = [line.strip(\"\\n\").split() for line in file.readlines()]\n",
    "\n",
    "lines = np.array(lines).astype(\"int64\")\n",
    "left = lines[:, 0]\n",
    "right = lines[:, 1]\n",
    "\n",
    "ordered = np.vstack([\n",
    "    np.sort(left),\n",
    "    np.sort(right)\n",
    "]).T\n",
    "\n",
    "difs = np.abs(ordered[:, 0] - ordered[:, 1])\n",
    "sum(difs)"
   ],
   "metadata": {
    "collapsed": false,
    "ExecuteTime": {
     "end_time": "2024-12-05T20:27:30.741397Z",
     "start_time": "2024-12-05T20:27:30.731925Z"
    }
   }
  },
  {
   "cell_type": "code",
   "execution_count": 97,
   "outputs": [
    {
     "data": {
      "text/plain": "22565391"
     },
     "execution_count": 97,
     "metadata": {},
     "output_type": "execute_result"
    }
   ],
   "source": [
    "# part 2\n",
    "mults = []\n",
    "for num in ordered[:, 0]:\n",
    "    right_occs = sum(ordered[:, 1] == num)\n",
    "    mults.append(right_occs)\n",
    "mults = np.array(mults)\n",
    "sum(mults * ordered[:, 0])"
   ],
   "metadata": {
    "collapsed": false,
    "ExecuteTime": {
     "end_time": "2024-12-05T20:27:30.812311Z",
     "start_time": "2024-12-05T20:27:30.810405Z"
    }
   }
  },
  {
   "cell_type": "markdown",
   "source": [
    "## 2"
   ],
   "metadata": {
    "collapsed": false
   }
  },
  {
   "cell_type": "code",
   "execution_count": 98,
   "outputs": [
    {
     "data": {
      "text/plain": "631"
     },
     "execution_count": 98,
     "metadata": {},
     "output_type": "execute_result"
    }
   ],
   "source": [
    "# part 1\n",
    "import numpy as np\n",
    "\n",
    "def is_safe(report):\n",
    "    n = report[0]\n",
    "    difs = []\n",
    "    for num in report[1:]:\n",
    "        difs.append(n - num)\n",
    "        n = num\n",
    "    difs = np.array(difs)\n",
    "    if sum(difs > 0) != len(difs) and sum(difs < 0) != len(difs):\n",
    "        return False\n",
    "    if sum(np.abs(difs) >= 1) == len(difs) and sum(np.abs(difs) <= 3) == len(difs):\n",
    "        return True\n",
    "    return False\n",
    "\n",
    "with open(\"inputs/input2.txt\") as file:\n",
    "    reports = [line.strip(\"\\n\").split() for line in file.readlines()]\n",
    "\n",
    "safety_vec = []\n",
    "for report in reports:\n",
    "    for i in range(len(report)):\n",
    "        report[i] = int(report[i])\n",
    "    safety_vec.append(is_safe(report))\n",
    "sum(safety_vec)"
   ],
   "metadata": {
    "collapsed": false,
    "ExecuteTime": {
     "end_time": "2024-12-05T20:27:30.824094Z",
     "start_time": "2024-12-05T20:27:30.813546Z"
    }
   }
  },
  {
   "cell_type": "code",
   "execution_count": 99,
   "outputs": [
    {
     "data": {
      "text/plain": "665"
     },
     "execution_count": 99,
     "metadata": {},
     "output_type": "execute_result"
    }
   ],
   "source": [
    "# part 2\n",
    "from itertools import combinations\n",
    "def pd_is_safe(report):\n",
    "    combs = combinations(report, len(report) - 1)\n",
    "    subsafeties = [is_safe(comb) for comb in combs]\n",
    "    return True in subsafeties\n",
    "\n",
    "safety_vec2 = []\n",
    "for report in reports:\n",
    "    safety_vec2.append(pd_is_safe(report))\n",
    "sum(safety_vec2)"
   ],
   "metadata": {
    "collapsed": false,
    "ExecuteTime": {
     "end_time": "2024-12-05T20:27:30.872302Z",
     "start_time": "2024-12-05T20:27:30.830464Z"
    }
   }
  },
  {
   "cell_type": "markdown",
   "source": [
    "## 3"
   ],
   "metadata": {
    "collapsed": false
   }
  },
  {
   "cell_type": "code",
   "execution_count": 100,
   "outputs": [
    {
     "data": {
      "text/plain": "187825547"
     },
     "execution_count": 100,
     "metadata": {},
     "output_type": "execute_result"
    }
   ],
   "source": [
    "# part 1\n",
    "import re\n",
    "import numpy as np\n",
    "\n",
    "def find_multiply(garbled_str):\n",
    "    mults = re.findall(r\"mul\\([0-9]+,[0-9]+\\)\", garbled_str)\n",
    "    nums = np.array([re.findall(r\"[0-9]+\", mult) for mult in mults]).astype(\"int64\")\n",
    "    product = nums[:, 0] * nums[:, 1]\n",
    "    return sum(product)\n",
    "\n",
    "with open(\"inputs/input3.txt\") as file:\n",
    "    lines = [line.strip(\"\\n\") for line in file.readlines()]\n",
    "total = \"\".join(lines)\n",
    "find_multiply(total)"
   ],
   "metadata": {
    "collapsed": false,
    "ExecuteTime": {
     "end_time": "2024-12-05T20:27:30.878243Z",
     "start_time": "2024-12-05T20:27:30.874354Z"
    }
   }
  },
  {
   "cell_type": "code",
   "execution_count": 101,
   "outputs": [
    {
     "data": {
      "text/plain": "85508223"
     },
     "execution_count": 101,
     "metadata": {},
     "output_type": "execute_result"
    }
   ],
   "source": [
    "# part 2\n",
    "def find_multiply_conditional(garbled_str):\n",
    "    instructions = re.findall(r\"mul\\([0-9]+,[0-9]+\\)|do\\(\\)|don't\\(\\)\", garbled_str)\n",
    "    act = True\n",
    "    valid_instructions = []\n",
    "    for instruction in instructions:\n",
    "        if instruction == \"don't()\":\n",
    "            act = False\n",
    "            continue\n",
    "        elif instruction == \"do()\":\n",
    "            act = True\n",
    "            continue\n",
    "        elif act:\n",
    "            valid_instructions.append(instruction)\n",
    "    nums = np.array([re.findall(r\"[0-9]+\", mult) for mult in valid_instructions]).astype(\"int64\")\n",
    "    product = nums[:, 0] * nums[:, 1]\n",
    "    return sum(product)\n",
    "\n",
    "find_multiply_conditional(total)"
   ],
   "metadata": {
    "collapsed": false,
    "ExecuteTime": {
     "end_time": "2024-12-05T20:27:30.883583Z",
     "start_time": "2024-12-05T20:27:30.880127Z"
    }
   }
  },
  {
   "cell_type": "markdown",
   "source": [
    "## 4"
   ],
   "metadata": {
    "collapsed": false
   }
  },
  {
   "cell_type": "code",
   "execution_count": 102,
   "outputs": [
    {
     "data": {
      "text/plain": "2534"
     },
     "execution_count": 102,
     "metadata": {},
     "output_type": "execute_result"
    }
   ],
   "source": [
    "# part 1\n",
    "import numpy as np\n",
    "with open(\"inputs/input4.txt\") as file:\n",
    "    ltr_grid = np.array([[letter for letter in line.strip(\"\\n\")] for line in file.readlines()])\n",
    "\n",
    "def get_vecs(start, grid_dims):\n",
    "    change_vec = np.array([1, 2, 3])\n",
    "    row_vec = (np.ones(3) * start[0]).astype(\"int64\")\n",
    "    col_vec = (np.ones(3) * start[1]).astype(\"int64\")\n",
    "    up = list(zip(row_vec - change_vec, col_vec))\n",
    "    right = list(zip(row_vec, col_vec + change_vec))\n",
    "    down = list(zip(row_vec + change_vec, col_vec))\n",
    "    left = list(zip(row_vec, col_vec - change_vec))\n",
    "    up_right = list(zip(row_vec - change_vec, col_vec + change_vec))\n",
    "    down_right = list(zip(row_vec + change_vec, col_vec + change_vec))\n",
    "    down_left = list(zip(row_vec + change_vec, col_vec - change_vec))\n",
    "    up_left = list(zip(row_vec - change_vec, col_vec - change_vec))\n",
    "\n",
    "    directions = [up, up_right, right, down_right, down, down_left, left, up_left]\n",
    "    valid_directions = []\n",
    "    for dir_set in directions:\n",
    "        for i, (row, col) in enumerate(dir_set):\n",
    "            if row < 0 or col < 0 or row >= grid_dims[0] or col >= grid_dims[1]:\n",
    "                i = 0\n",
    "                break\n",
    "        if i == 2:\n",
    "            valid_directions.append(dir_set)\n",
    "    return valid_directions\n",
    "\n",
    "\n",
    "def find_starts(grid, character):\n",
    "    starts = []\n",
    "    for i, row in enumerate(grid):\n",
    "        for j, letter in enumerate(row):\n",
    "            if letter == character:\n",
    "                starts.append((i, j))\n",
    "    return starts\n",
    "\n",
    "starts = find_starts(ltr_grid, \"X\")\n",
    "count = 0\n",
    "for start in starts:\n",
    "    vecs = get_vecs(start, ltr_grid.shape)\n",
    "    letters = [\"\".join(letterset) for letterset in [[ltr_grid[i, j] for i, j in vec] for vec in vecs]]\n",
    "    count += letters.count(\"MAS\")\n",
    "count"
   ],
   "metadata": {
    "collapsed": false,
    "ExecuteTime": {
     "end_time": "2024-12-05T20:27:30.983417Z",
     "start_time": "2024-12-05T20:27:30.884471Z"
    }
   }
  },
  {
   "cell_type": "code",
   "execution_count": 103,
   "outputs": [
    {
     "data": {
      "text/plain": "1866"
     },
     "execution_count": 103,
     "metadata": {},
     "output_type": "execute_result"
    }
   ],
   "source": [
    "# part 2\n",
    "def is_x_mas(position, grid):\n",
    "    if position[0] - 1 < 0 or \\\n",
    "            position[0] + 1 >= grid.shape[0] or \\\n",
    "            position[1] - 1 < 0 or \\\n",
    "            position[1] + 1 >= grid.shape[1]:\n",
    "        return False\n",
    "    upleft = grid[position[0] - 1, position[1] - 1]\n",
    "    upright = grid[position[0] - 1, position[1] + 1]\n",
    "    downright = grid[position[0] + 1, position[1] + 1]\n",
    "    downleft = grid[position[0] + 1, position[1] - 1]\n",
    "\n",
    "    set1 = {upleft, downright}\n",
    "    set2 = {upright, downleft}\n",
    "\n",
    "    if set1 == {\"S\", \"M\"} and set1 == set2:\n",
    "        return True\n",
    "    return False\n",
    "\n",
    "tfs = []\n",
    "starts = find_starts(ltr_grid, \"A\")\n",
    "for start in starts:\n",
    "    tfs.append(is_x_mas(start, ltr_grid))\n",
    "sum(tfs)"
   ],
   "metadata": {
    "collapsed": false,
    "ExecuteTime": {
     "end_time": "2024-12-05T20:27:30.994746Z",
     "start_time": "2024-12-05T20:27:30.992527Z"
    }
   }
  },
  {
   "cell_type": "markdown",
   "source": [
    "## 5"
   ],
   "metadata": {
    "collapsed": false
   }
  },
  {
   "cell_type": "code",
   "execution_count": 104,
   "outputs": [
    {
     "name": "stdout",
     "output_type": "stream",
     "text": [
      "5762\n"
     ]
    }
   ],
   "source": [
    "# part 1\n",
    "import numpy as np\n",
    "with open(\"inputs/input5.txt\") as file:\n",
    "    lines = [line.strip(\"\\n\") for line in file.readlines()]\n",
    "rules = np.array([line.strip(\"\\n\").split(\"|\") for line in lines if \"|\" in line]).astype(\"int64\")\n",
    "updates = [[int(x) for x in line.strip(\"\\n\").split(\",\")] for line in lines if \"|\" not in line and len(line) != 0]\n",
    "\n",
    "def get_afters(pgnum):\n",
    "    return rules[rules[:, 0] == pgnum, 1]\n",
    "\n",
    "def is_valid(update):\n",
    "    for i, num in enumerate(update):\n",
    "        afters = get_afters(num)\n",
    "        for after in afters:\n",
    "            if after in update[:i]:\n",
    "                return False\n",
    "    return True\n",
    "\n",
    "valid_updates = [update for update in updates if is_valid(update)]\n",
    "centers = [update[len(update) // 2] for update in valid_updates]\n",
    "print(sum(centers))"
   ],
   "metadata": {
    "collapsed": false,
    "ExecuteTime": {
     "end_time": "2024-12-05T20:27:31.018211Z",
     "start_time": "2024-12-05T20:27:30.996139Z"
    }
   }
  },
  {
   "cell_type": "code",
   "execution_count": 119,
   "outputs": [
    {
     "name": "stdout",
     "output_type": "stream",
     "text": [
      "4130\n"
     ]
    }
   ],
   "source": [
    "# part 2: recursion!\n",
    "invalid_updates = [update for update in updates if not is_valid(update)]\n",
    "\n",
    "def correct_update(update):\n",
    "    if is_valid(update):\n",
    "        return update\n",
    "    for i, num in enumerate(update):\n",
    "        corrected = update\n",
    "        afters = get_afters(num)\n",
    "        for after in afters:\n",
    "            if after in update[:i]:\n",
    "                loc = update.index(after)\n",
    "                #weird python thing allows me to slice beyond the indices of an array\n",
    "                corrected = corrected[:loc] + [num] + corrected[loc:i] + corrected[i + 1:]\n",
    "                return correct_update(corrected)\n",
    "\n",
    "corrected = [correct_update(update) for update in invalid_updates]\n",
    "centers = [update[len(update) // 2] for update in corrected]\n",
    "print(sum(centers))"
   ],
   "metadata": {
    "collapsed": false,
    "ExecuteTime": {
     "end_time": "2024-12-05T20:36:05.064441Z",
     "start_time": "2024-12-05T20:36:04.757354Z"
    }
   }
  }
 ],
 "metadata": {
  "kernelspec": {
   "display_name": "Python 3",
   "language": "python",
   "name": "python3"
  },
  "language_info": {
   "codemirror_mode": {
    "name": "ipython",
    "version": 2
   },
   "file_extension": ".py",
   "mimetype": "text/x-python",
   "name": "python",
   "nbconvert_exporter": "python",
   "pygments_lexer": "ipython2",
   "version": "2.7.6"
  }
 },
 "nbformat": 4,
 "nbformat_minor": 0
}
